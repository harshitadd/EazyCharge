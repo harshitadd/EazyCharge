{
 "cells": [
  {
   "cell_type": "code",
   "execution_count": 1,
   "metadata": {},
   "outputs": [],
   "source": [
    "import cv2\n",
    "import numpy as np"
   ]
  },
  {
   "cell_type": "code",
   "execution_count": 3,
   "metadata": {},
   "outputs": [],
   "source": [
    "labelsPath = \"/home/divyanshu/Desktop/SIH/coco.names\"\n",
    "labels = open(labelsPath).read().strip().split(\"\\n\")\n",
    "weightsPath = \"/home/divyanshu/Desktop/SIH/yolov3.weights\"\n",
    "configPath = \"/home/divyanshu/Desktop/SIH/yolov3.cfg\"\n",
    "YOLO = cv2.dnn.readNetFromDarknet(configPath, weightsPath)\n",
    "ln = YOLO.getLayerNames()\n",
    "ln = [ln[i[0] - 1] for i in YOLO.getUnconnectedOutLayers()]"
   ]
  },
  {
   "cell_type": "code",
   "execution_count": null,
   "metadata": {},
   "outputs": [],
   "source": [
    "vid = cv2.VideoCapture(0)\n",
    "\n",
    "i = 0\n",
    "while True:\n",
    "    i += 1\n",
    "    fbls = []\n",
    "    ret, image = vid.read()\n",
    "    (h, w) = image.shape[:2]\n",
    "    blob = cv2.dnn.blobFromImage(image, 1/255.0, (416, 416), swapRB = True, crop = False)\n",
    "    YOLO.setInput(blob)\n",
    "    layerOutputs = YOLO.forward(ln)\n",
    "    boxes = []\n",
    "    confidences = []\n",
    "    classIDs = []\n",
    "    num = 0\n",
    "    for output in layerOutputs:\n",
    "        for detection in output:\n",
    "            scores = detection[5:]\n",
    "            classID = np.argmax(scores)\n",
    "            confidence = scores[classID]\n",
    "            if confidence > 0.6 and labels[classID] == 'car':\n",
    "                num += 1\n",
    "                box = detection[0:4]*np.array([w,h,w,h])\n",
    "                (cX, cY, width, height) = box.astype(\"int\")\n",
    "                x = int(cX - (width/2))\n",
    "                y = int(cY - (height/2))\n",
    "                boxes.append([x,y,int(width), int(height)])\n",
    "                confidences.append(float(confidence))\n",
    "                classIDs.append(classID)\n",
    "    idxs = cv2.dnn.NMSBoxes(boxes, confidences, 0.5, 0.5)\n",
    "    if len(idxs) > 0:\n",
    "        for i in idxs.flatten():\n",
    "                if labels[classIDs[i]] == 'car' and confidences[i] > 0.8:\n",
    "                    (x,y) = (boxes[i][0], boxes[i][1])\n",
    "                    (w,h) = (boxes[i][2], boxes[i][3])\n",
    "                    cv2.rectangle(image, (x,y), (x+w, y+h), (255,0,0), 2)\n",
    "                    text = \"{}: {:.4f}\".format(labels[classIDs[i]], confidences[i])\n",
    "                    cv2.putText(image, text, (x, y - 5), cv2.FONT_HERSHEY_SIMPLEX, 0.5, (255,255,255), 2)\n",
    "    cv2.imshow(\"Video\", image)\n",
    "    \n",
    "    if cv2.waitKey(1) & 0xFF == ord('q'):\n",
    "        break\n",
    "vid.release()\n",
    "cv2.destroyAllWindows()"
   ]
  },
  {
   "cell_type": "code",
   "execution_count": null,
   "metadata": {},
   "outputs": [],
   "source": []
  }
 ],
 "metadata": {
  "kernelspec": {
   "display_name": "Python 3",
   "language": "python",
   "name": "python3"
  },
  "language_info": {
   "codemirror_mode": {
    "name": "ipython",
    "version": 3
   },
   "file_extension": ".py",
   "mimetype": "text/x-python",
   "name": "python",
   "nbconvert_exporter": "python",
   "pygments_lexer": "ipython3",
   "version": "3.6.5"
  }
 },
 "nbformat": 4,
 "nbformat_minor": 2
}
